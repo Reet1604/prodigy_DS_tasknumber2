{
 "cells": [
  {
   "cell_type": "code",
   "execution_count": 1,
   "id": "e3516984",
   "metadata": {},
   "outputs": [],
   "source": [
    "import pandas as pd\n",
    "import numpy as np\n",
    "import matplotlib.pyplot as plt\n",
    "import seaborn as sn"
   ]
  },
  {
   "cell_type": "code",
   "execution_count": 2,
   "id": "d2fadb76",
   "metadata": {},
   "outputs": [
    {
     "data": {
      "text/html": [
       "<div>\n",
       "<style scoped>\n",
       "    .dataframe tbody tr th:only-of-type {\n",
       "        vertical-align: middle;\n",
       "    }\n",
       "\n",
       "    .dataframe tbody tr th {\n",
       "        vertical-align: top;\n",
       "    }\n",
       "\n",
       "    .dataframe thead th {\n",
       "        text-align: right;\n",
       "    }\n",
       "</style>\n",
       "<table border=\"1\" class=\"dataframe\">\n",
       "  <thead>\n",
       "    <tr style=\"text-align: right;\">\n",
       "      <th></th>\n",
       "      <th>Unnamed: 0</th>\n",
       "      <th>age</th>\n",
       "      <th>job</th>\n",
       "      <th>marital</th>\n",
       "      <th>education</th>\n",
       "      <th>default</th>\n",
       "      <th>balance</th>\n",
       "      <th>housing</th>\n",
       "      <th>loan</th>\n",
       "      <th>contact</th>\n",
       "      <th>day</th>\n",
       "      <th>month</th>\n",
       "      <th>duration</th>\n",
       "      <th>campaign</th>\n",
       "      <th>pdays</th>\n",
       "      <th>previous</th>\n",
       "      <th>poutcome</th>\n",
       "      <th>deposit</th>\n",
       "    </tr>\n",
       "  </thead>\n",
       "  <tbody>\n",
       "    <tr>\n",
       "      <th>0</th>\n",
       "      <td>0</td>\n",
       "      <td>41</td>\n",
       "      <td>services</td>\n",
       "      <td>married</td>\n",
       "      <td>unknown</td>\n",
       "      <td>no</td>\n",
       "      <td>88</td>\n",
       "      <td>yes</td>\n",
       "      <td>no</td>\n",
       "      <td>cellular</td>\n",
       "      <td>11</td>\n",
       "      <td>may</td>\n",
       "      <td>105</td>\n",
       "      <td>1</td>\n",
       "      <td>336</td>\n",
       "      <td>2</td>\n",
       "      <td>failure</td>\n",
       "      <td>no</td>\n",
       "    </tr>\n",
       "    <tr>\n",
       "      <th>1</th>\n",
       "      <td>1</td>\n",
       "      <td>56</td>\n",
       "      <td>technician</td>\n",
       "      <td>married</td>\n",
       "      <td>secondary</td>\n",
       "      <td>no</td>\n",
       "      <td>1938</td>\n",
       "      <td>no</td>\n",
       "      <td>yes</td>\n",
       "      <td>cellular</td>\n",
       "      <td>26</td>\n",
       "      <td>feb</td>\n",
       "      <td>229</td>\n",
       "      <td>1</td>\n",
       "      <td>192</td>\n",
       "      <td>4</td>\n",
       "      <td>success</td>\n",
       "      <td>yes</td>\n",
       "    </tr>\n",
       "    <tr>\n",
       "      <th>2</th>\n",
       "      <td>2</td>\n",
       "      <td>30</td>\n",
       "      <td>services</td>\n",
       "      <td>single</td>\n",
       "      <td>secondary</td>\n",
       "      <td>no</td>\n",
       "      <td>245</td>\n",
       "      <td>no</td>\n",
       "      <td>yes</td>\n",
       "      <td>cellular</td>\n",
       "      <td>8</td>\n",
       "      <td>jul</td>\n",
       "      <td>187</td>\n",
       "      <td>2</td>\n",
       "      <td>-1</td>\n",
       "      <td>0</td>\n",
       "      <td>unknown</td>\n",
       "      <td>no</td>\n",
       "    </tr>\n",
       "    <tr>\n",
       "      <th>3</th>\n",
       "      <td>3</td>\n",
       "      <td>34</td>\n",
       "      <td>management</td>\n",
       "      <td>single</td>\n",
       "      <td>tertiary</td>\n",
       "      <td>no</td>\n",
       "      <td>1396</td>\n",
       "      <td>yes</td>\n",
       "      <td>no</td>\n",
       "      <td>cellular</td>\n",
       "      <td>17</td>\n",
       "      <td>jul</td>\n",
       "      <td>630</td>\n",
       "      <td>1</td>\n",
       "      <td>-1</td>\n",
       "      <td>0</td>\n",
       "      <td>unknown</td>\n",
       "      <td>no</td>\n",
       "    </tr>\n",
       "    <tr>\n",
       "      <th>4</th>\n",
       "      <td>4</td>\n",
       "      <td>29</td>\n",
       "      <td>technician</td>\n",
       "      <td>single</td>\n",
       "      <td>secondary</td>\n",
       "      <td>no</td>\n",
       "      <td>-13</td>\n",
       "      <td>yes</td>\n",
       "      <td>no</td>\n",
       "      <td>cellular</td>\n",
       "      <td>14</td>\n",
       "      <td>may</td>\n",
       "      <td>512</td>\n",
       "      <td>3</td>\n",
       "      <td>-1</td>\n",
       "      <td>0</td>\n",
       "      <td>unknown</td>\n",
       "      <td>no</td>\n",
       "    </tr>\n",
       "    <tr>\n",
       "      <th>...</th>\n",
       "      <td>...</td>\n",
       "      <td>...</td>\n",
       "      <td>...</td>\n",
       "      <td>...</td>\n",
       "      <td>...</td>\n",
       "      <td>...</td>\n",
       "      <td>...</td>\n",
       "      <td>...</td>\n",
       "      <td>...</td>\n",
       "      <td>...</td>\n",
       "      <td>...</td>\n",
       "      <td>...</td>\n",
       "      <td>...</td>\n",
       "      <td>...</td>\n",
       "      <td>...</td>\n",
       "      <td>...</td>\n",
       "      <td>...</td>\n",
       "      <td>...</td>\n",
       "    </tr>\n",
       "    <tr>\n",
       "      <th>5576</th>\n",
       "      <td>5576</td>\n",
       "      <td>48</td>\n",
       "      <td>admin.</td>\n",
       "      <td>married</td>\n",
       "      <td>secondary</td>\n",
       "      <td>no</td>\n",
       "      <td>2235</td>\n",
       "      <td>yes</td>\n",
       "      <td>yes</td>\n",
       "      <td>unknown</td>\n",
       "      <td>15</td>\n",
       "      <td>may</td>\n",
       "      <td>755</td>\n",
       "      <td>2</td>\n",
       "      <td>-1</td>\n",
       "      <td>0</td>\n",
       "      <td>unknown</td>\n",
       "      <td>no</td>\n",
       "    </tr>\n",
       "    <tr>\n",
       "      <th>5577</th>\n",
       "      <td>5577</td>\n",
       "      <td>40</td>\n",
       "      <td>blue-collar</td>\n",
       "      <td>married</td>\n",
       "      <td>primary</td>\n",
       "      <td>no</td>\n",
       "      <td>-388</td>\n",
       "      <td>yes</td>\n",
       "      <td>no</td>\n",
       "      <td>cellular</td>\n",
       "      <td>4</td>\n",
       "      <td>may</td>\n",
       "      <td>195</td>\n",
       "      <td>3</td>\n",
       "      <td>340</td>\n",
       "      <td>1</td>\n",
       "      <td>failure</td>\n",
       "      <td>no</td>\n",
       "    </tr>\n",
       "    <tr>\n",
       "      <th>5578</th>\n",
       "      <td>5578</td>\n",
       "      <td>27</td>\n",
       "      <td>student</td>\n",
       "      <td>single</td>\n",
       "      <td>secondary</td>\n",
       "      <td>no</td>\n",
       "      <td>91</td>\n",
       "      <td>no</td>\n",
       "      <td>no</td>\n",
       "      <td>telephone</td>\n",
       "      <td>4</td>\n",
       "      <td>dec</td>\n",
       "      <td>157</td>\n",
       "      <td>6</td>\n",
       "      <td>95</td>\n",
       "      <td>37</td>\n",
       "      <td>other</td>\n",
       "      <td>no</td>\n",
       "    </tr>\n",
       "    <tr>\n",
       "      <th>5579</th>\n",
       "      <td>5579</td>\n",
       "      <td>46</td>\n",
       "      <td>blue-collar</td>\n",
       "      <td>married</td>\n",
       "      <td>secondary</td>\n",
       "      <td>no</td>\n",
       "      <td>1568</td>\n",
       "      <td>yes</td>\n",
       "      <td>no</td>\n",
       "      <td>cellular</td>\n",
       "      <td>2</td>\n",
       "      <td>jun</td>\n",
       "      <td>310</td>\n",
       "      <td>1</td>\n",
       "      <td>55</td>\n",
       "      <td>6</td>\n",
       "      <td>other</td>\n",
       "      <td>yes</td>\n",
       "    </tr>\n",
       "    <tr>\n",
       "      <th>5580</th>\n",
       "      <td>5580</td>\n",
       "      <td>39</td>\n",
       "      <td>services</td>\n",
       "      <td>married</td>\n",
       "      <td>secondary</td>\n",
       "      <td>no</td>\n",
       "      <td>0</td>\n",
       "      <td>yes</td>\n",
       "      <td>no</td>\n",
       "      <td>cellular</td>\n",
       "      <td>8</td>\n",
       "      <td>may</td>\n",
       "      <td>503</td>\n",
       "      <td>1</td>\n",
       "      <td>-1</td>\n",
       "      <td>0</td>\n",
       "      <td>unknown</td>\n",
       "      <td>no</td>\n",
       "    </tr>\n",
       "  </tbody>\n",
       "</table>\n",
       "<p>5581 rows × 18 columns</p>\n",
       "</div>"
      ],
      "text/plain": [
       "      Unnamed: 0  age          job  marital  education default  balance  \\\n",
       "0              0   41     services  married    unknown      no       88   \n",
       "1              1   56   technician  married  secondary      no     1938   \n",
       "2              2   30     services   single  secondary      no      245   \n",
       "3              3   34   management   single   tertiary      no     1396   \n",
       "4              4   29   technician   single  secondary      no      -13   \n",
       "...          ...  ...          ...      ...        ...     ...      ...   \n",
       "5576        5576   48       admin.  married  secondary      no     2235   \n",
       "5577        5577   40  blue-collar  married    primary      no     -388   \n",
       "5578        5578   27      student   single  secondary      no       91   \n",
       "5579        5579   46  blue-collar  married  secondary      no     1568   \n",
       "5580        5580   39     services  married  secondary      no        0   \n",
       "\n",
       "     housing loan    contact  day month  duration  campaign  pdays  previous  \\\n",
       "0        yes   no   cellular   11   may       105         1    336         2   \n",
       "1         no  yes   cellular   26   feb       229         1    192         4   \n",
       "2         no  yes   cellular    8   jul       187         2     -1         0   \n",
       "3        yes   no   cellular   17   jul       630         1     -1         0   \n",
       "4        yes   no   cellular   14   may       512         3     -1         0   \n",
       "...      ...  ...        ...  ...   ...       ...       ...    ...       ...   \n",
       "5576     yes  yes    unknown   15   may       755         2     -1         0   \n",
       "5577     yes   no   cellular    4   may       195         3    340         1   \n",
       "5578      no   no  telephone    4   dec       157         6     95        37   \n",
       "5579     yes   no   cellular    2   jun       310         1     55         6   \n",
       "5580     yes   no   cellular    8   may       503         1     -1         0   \n",
       "\n",
       "     poutcome deposit  \n",
       "0     failure      no  \n",
       "1     success     yes  \n",
       "2     unknown      no  \n",
       "3     unknown      no  \n",
       "4     unknown      no  \n",
       "...       ...     ...  \n",
       "5576  unknown      no  \n",
       "5577  failure      no  \n",
       "5578    other      no  \n",
       "5579    other     yes  \n",
       "5580  unknown      no  \n",
       "\n",
       "[5581 rows x 18 columns]"
      ]
     },
     "execution_count": 2,
     "metadata": {},
     "output_type": "execute_result"
    }
   ],
   "source": [
    "bank_data = pd.read_csv(\"bank_marketing.csv\")\n",
    "bank_data\n"
   ]
  },
  {
   "cell_type": "code",
   "execution_count": 3,
   "id": "44503446",
   "metadata": {},
   "outputs": [
    {
     "name": "stdout",
     "output_type": "stream",
     "text": [
      "<class 'pandas.core.frame.DataFrame'>\n",
      "RangeIndex: 5581 entries, 0 to 5580\n",
      "Data columns (total 18 columns):\n",
      " #   Column      Non-Null Count  Dtype \n",
      "---  ------      --------------  ----- \n",
      " 0   Unnamed: 0  5581 non-null   int64 \n",
      " 1   age         5581 non-null   int64 \n",
      " 2   job         5581 non-null   object\n",
      " 3   marital     5581 non-null   object\n",
      " 4   education   5581 non-null   object\n",
      " 5   default     5581 non-null   object\n",
      " 6   balance     5581 non-null   int64 \n",
      " 7   housing     5581 non-null   object\n",
      " 8   loan        5581 non-null   object\n",
      " 9   contact     5581 non-null   object\n",
      " 10  day         5581 non-null   int64 \n",
      " 11  month       5581 non-null   object\n",
      " 12  duration    5581 non-null   int64 \n",
      " 13  campaign    5581 non-null   int64 \n",
      " 14  pdays       5581 non-null   int64 \n",
      " 15  previous    5581 non-null   int64 \n",
      " 16  poutcome    5581 non-null   object\n",
      " 17  deposit     5581 non-null   object\n",
      "dtypes: int64(8), object(10)\n",
      "memory usage: 785.0+ KB\n"
     ]
    }
   ],
   "source": [
    "bank_data.info()"
   ]
  },
  {
   "cell_type": "code",
   "execution_count": 4,
   "id": "41ad8073",
   "metadata": {},
   "outputs": [
    {
     "data": {
      "text/plain": [
       "(5581, 18)"
      ]
     },
     "execution_count": 4,
     "metadata": {},
     "output_type": "execute_result"
    }
   ],
   "source": [
    "bank_data.isnull().shape"
   ]
  },
  {
   "cell_type": "code",
   "execution_count": 5,
   "id": "a3ac0ac9",
   "metadata": {},
   "outputs": [
    {
     "data": {
      "text/html": [
       "<div>\n",
       "<style scoped>\n",
       "    .dataframe tbody tr th:only-of-type {\n",
       "        vertical-align: middle;\n",
       "    }\n",
       "\n",
       "    .dataframe tbody tr th {\n",
       "        vertical-align: top;\n",
       "    }\n",
       "\n",
       "    .dataframe thead th {\n",
       "        text-align: right;\n",
       "    }\n",
       "</style>\n",
       "<table border=\"1\" class=\"dataframe\">\n",
       "  <thead>\n",
       "    <tr style=\"text-align: right;\">\n",
       "      <th></th>\n",
       "      <th>Unnamed: 0</th>\n",
       "      <th>age</th>\n",
       "      <th>balance</th>\n",
       "      <th>day</th>\n",
       "      <th>duration</th>\n",
       "      <th>campaign</th>\n",
       "      <th>pdays</th>\n",
       "      <th>previous</th>\n",
       "    </tr>\n",
       "  </thead>\n",
       "  <tbody>\n",
       "    <tr>\n",
       "      <th>count</th>\n",
       "      <td>5581.000000</td>\n",
       "      <td>5581.000000</td>\n",
       "      <td>5581.000000</td>\n",
       "      <td>5581.000000</td>\n",
       "      <td>5581.000000</td>\n",
       "      <td>5581.000000</td>\n",
       "      <td>5581.000000</td>\n",
       "      <td>5581.000000</td>\n",
       "    </tr>\n",
       "    <tr>\n",
       "      <th>mean</th>\n",
       "      <td>2790.000000</td>\n",
       "      <td>41.169683</td>\n",
       "      <td>1514.736786</td>\n",
       "      <td>15.693603</td>\n",
       "      <td>368.175954</td>\n",
       "      <td>2.507436</td>\n",
       "      <td>52.534313</td>\n",
       "      <td>0.849669</td>\n",
       "    </tr>\n",
       "    <tr>\n",
       "      <th>std</th>\n",
       "      <td>1611.240257</td>\n",
       "      <td>11.926044</td>\n",
       "      <td>3266.534626</td>\n",
       "      <td>8.461086</td>\n",
       "      <td>344.131053</td>\n",
       "      <td>2.770717</td>\n",
       "      <td>110.754995</td>\n",
       "      <td>2.311684</td>\n",
       "    </tr>\n",
       "    <tr>\n",
       "      <th>min</th>\n",
       "      <td>0.000000</td>\n",
       "      <td>18.000000</td>\n",
       "      <td>-3058.000000</td>\n",
       "      <td>1.000000</td>\n",
       "      <td>3.000000</td>\n",
       "      <td>1.000000</td>\n",
       "      <td>-1.000000</td>\n",
       "      <td>0.000000</td>\n",
       "    </tr>\n",
       "    <tr>\n",
       "      <th>25%</th>\n",
       "      <td>1395.000000</td>\n",
       "      <td>32.000000</td>\n",
       "      <td>110.000000</td>\n",
       "      <td>8.000000</td>\n",
       "      <td>137.000000</td>\n",
       "      <td>1.000000</td>\n",
       "      <td>-1.000000</td>\n",
       "      <td>0.000000</td>\n",
       "    </tr>\n",
       "    <tr>\n",
       "      <th>50%</th>\n",
       "      <td>2790.000000</td>\n",
       "      <td>39.000000</td>\n",
       "      <td>542.000000</td>\n",
       "      <td>15.000000</td>\n",
       "      <td>254.000000</td>\n",
       "      <td>2.000000</td>\n",
       "      <td>-1.000000</td>\n",
       "      <td>0.000000</td>\n",
       "    </tr>\n",
       "    <tr>\n",
       "      <th>75%</th>\n",
       "      <td>4185.000000</td>\n",
       "      <td>49.000000</td>\n",
       "      <td>1747.000000</td>\n",
       "      <td>22.000000</td>\n",
       "      <td>485.000000</td>\n",
       "      <td>3.000000</td>\n",
       "      <td>57.000000</td>\n",
       "      <td>1.000000</td>\n",
       "    </tr>\n",
       "    <tr>\n",
       "      <th>max</th>\n",
       "      <td>5580.000000</td>\n",
       "      <td>93.000000</td>\n",
       "      <td>81204.000000</td>\n",
       "      <td>31.000000</td>\n",
       "      <td>3284.000000</td>\n",
       "      <td>63.000000</td>\n",
       "      <td>842.000000</td>\n",
       "      <td>41.000000</td>\n",
       "    </tr>\n",
       "  </tbody>\n",
       "</table>\n",
       "</div>"
      ],
      "text/plain": [
       "        Unnamed: 0          age       balance          day     duration  \\\n",
       "count  5581.000000  5581.000000   5581.000000  5581.000000  5581.000000   \n",
       "mean   2790.000000    41.169683   1514.736786    15.693603   368.175954   \n",
       "std    1611.240257    11.926044   3266.534626     8.461086   344.131053   \n",
       "min       0.000000    18.000000  -3058.000000     1.000000     3.000000   \n",
       "25%    1395.000000    32.000000    110.000000     8.000000   137.000000   \n",
       "50%    2790.000000    39.000000    542.000000    15.000000   254.000000   \n",
       "75%    4185.000000    49.000000   1747.000000    22.000000   485.000000   \n",
       "max    5580.000000    93.000000  81204.000000    31.000000  3284.000000   \n",
       "\n",
       "          campaign        pdays     previous  \n",
       "count  5581.000000  5581.000000  5581.000000  \n",
       "mean      2.507436    52.534313     0.849669  \n",
       "std       2.770717   110.754995     2.311684  \n",
       "min       1.000000    -1.000000     0.000000  \n",
       "25%       1.000000    -1.000000     0.000000  \n",
       "50%       2.000000    -1.000000     0.000000  \n",
       "75%       3.000000    57.000000     1.000000  \n",
       "max      63.000000   842.000000    41.000000  "
      ]
     },
     "execution_count": 5,
     "metadata": {},
     "output_type": "execute_result"
    }
   ],
   "source": [
    "bank_data.describe()"
   ]
  },
  {
   "cell_type": "code",
   "execution_count": 6,
   "id": "427e3d41",
   "metadata": {},
   "outputs": [
    {
     "name": "stdout",
     "output_type": "stream",
     "text": [
      "The total number of missing values in the dataframe is: 0\n"
     ]
    }
   ],
   "source": [
    "total_missing_values = bank_data.isnull().sum().sum()\n",
    "print(\"The total number of missing values in the dataframe is:\", total_missing_values)\n"
   ]
  },
  {
   "cell_type": "code",
   "execution_count": 7,
   "id": "65c2dc28",
   "metadata": {},
   "outputs": [
    {
     "name": "stdout",
     "output_type": "stream",
     "text": [
      "(5581, 18)\n"
     ]
    }
   ],
   "source": [
    "bank_data=bank_data.dropna()\n",
    "bank_data=bank_data.drop_duplicates()\n",
    "print(bank_data.shape)"
   ]
  },
  {
   "cell_type": "code",
   "execution_count": 8,
   "id": "f5fef182",
   "metadata": {},
   "outputs": [
    {
     "name": "stdout",
     "output_type": "stream",
     "text": [
      "bank_data duplicaed values in the dataframe is: (5581, 18)\n"
     ]
    }
   ],
   "source": [
    "bank_data=bank_data.dropna()\n",
    "bank_data=bank_data.drop_duplicates()\n",
    "print('bank_data duplicaed values in the dataframe is:',bank_data.shape)"
   ]
  },
  {
   "cell_type": "code",
   "execution_count": 30,
   "id": "aaec2c33",
   "metadata": {
    "collapsed": true
   },
   "outputs": [
    {
     "ename": "NameError",
     "evalue": "name 'df' is not defined",
     "output_type": "error",
     "traceback": [
      "\u001b[1;31m---------------------------------------------------------------------------\u001b[0m",
      "\u001b[1;31mNameError\u001b[0m                                 Traceback (most recent call last)",
      "Input \u001b[1;32mIn [30]\u001b[0m, in \u001b[0;36m<cell line: 1>\u001b[1;34m()\u001b[0m\n\u001b[1;32m----> 1\u001b[0m df\u001b[38;5;241m=\u001b[39m\u001b[43mdf\u001b[49m\u001b[38;5;241m.\u001b[39mdropna()\n\u001b[0;32m      2\u001b[0m df\u001b[38;5;241m=\u001b[39mdf\u001b[38;5;241m.\u001b[39mdrop_duplicates()\n\u001b[0;32m      3\u001b[0m \u001b[38;5;28mprint\u001b[39m(df\u001b[38;5;241m.\u001b[39mshape)\n",
      "\u001b[1;31mNameError\u001b[0m: name 'df' is not defined"
     ]
    }
   ],
   "source": [
    "# df=df.dropna()\n",
    "# df=df.drop_duplicates()\n",
    "# print(df.shape)\n"
   ]
  },
  {
   "cell_type": "code",
   "execution_count": 9,
   "id": "ae7e89cf",
   "metadata": {},
   "outputs": [
    {
     "name": "stdout",
     "output_type": "stream",
     "text": [
      "The total number of duplicated values in the dataframe is: 0\n"
     ]
    }
   ],
   "source": [
    "total_duplicate_values = bank_data.duplicated().sum()\n",
    "print(\"The total number of duplicated values in the dataframe is:\", total_duplicate_values)\n"
   ]
  },
  {
   "cell_type": "code",
   "execution_count": 10,
   "id": "7fecfc0f",
   "metadata": {},
   "outputs": [
    {
     "name": "stdout",
     "output_type": "stream",
     "text": [
      "The shape of the data after dropping the feature 'Unnamed: 0', missing values, and duplicated values is: (5581, 17)\n"
     ]
    }
   ],
   "source": [
    "bank_data.drop(\"Unnamed: 0\", axis=1, inplace=True)\n",
    "bank_data.dropna(inplace=True)\n",
    "bank_data.drop_duplicates(inplace=True)\n",
    "print(\"The shape of the data after dropping the feature 'Unnamed: 0', missing values, and duplicated values is:\", bank_data.shape)\n"
   ]
  },
  {
   "cell_type": "code",
   "execution_count": 13,
   "id": "58cb9828",
   "metadata": {},
   "outputs": [
    {
     "name": "stdout",
     "output_type": "stream",
     "text": [
      "The average age of the clients who have subscribed to deposit is: 41.42677345537757\n"
     ]
    }
   ],
   "source": [
    "average_age_subscribed = bank_data[bank_data['deposit']=='yes']['age'].mean()\n",
    "print(\"The average age of the clients who have subscribed to deposit is:\", average_age_subscribed)\n"
   ]
  },
  {
   "cell_type": "code",
   "execution_count": 11,
   "id": "af803b6a",
   "metadata": {},
   "outputs": [
    {
     "name": "stdout",
     "output_type": "stream",
     "text": [
      "The maximum number of contacts performed during the campaign for the clients who have not subscribed to deposit is: 63\n"
     ]
    }
   ],
   "source": [
    "max_contacts_not_subscribed = bank_data[bank_data['deposit']=='no']['campaign'].max()\n",
    "print(\"The maximum number of contacts performed during the campaign for the clients who have not subscribed to deposit is:\", max_contacts_not_subscribed)\n"
   ]
  },
  {
   "cell_type": "code",
   "execution_count": 12,
   "id": "66be9d11",
   "metadata": {},
   "outputs": [
    {
     "name": "stdout",
     "output_type": "stream",
     "text": [
      "The difference between the maximum balance (in euros) for the clients who have subscribed to deposit and for the clients who have not subscribed to deposit is: 24373\n"
     ]
    }
   ],
   "source": [
    "max_balance_subscribed = bank_data[bank_data['deposit']=='yes']['balance'].max()\n",
    "max_balance_not_subscribed = bank_data[bank_data['deposit']=='no']['balance'].max()\n",
    "difference_max_balance = max_balance_subscribed - max_balance_not_subscribed\n",
    "print(\"The difference between the maximum balance (in euros) for the clients who have subscribed to deposit and for the clients who have not subscribed to deposit is:\", difference_max_balance)\n"
   ]
  },
  {
   "cell_type": "code",
   "execution_count": 13,
   "id": "2c9612fc",
   "metadata": {},
   "outputs": [
    {
     "name": "stdout",
     "output_type": "stream",
     "text": [
      "The count of unique job levels in the data is: 12\n",
      "The number of clients in the management level is: 1318\n"
     ]
    }
   ],
   "source": [
    "unique_jobs = bank_data['job'].unique()\n",
    "print(\"The count of unique job levels in the data is:\", len(unique_jobs))\n",
    "\n",
    "management_clients = bank_data[bank_data['job']=='management'].shape[0]\n",
    "print(\"The number of clients in the management level is:\", management_clients)\n"
   ]
  },
  {
   "cell_type": "code",
   "execution_count": 14,
   "id": "1c89ea3c",
   "metadata": {},
   "outputs": [
    {
     "name": "stdout",
     "output_type": "stream",
     "text": [
      "Percentage split of categories in the column 'deposit':\n",
      " no     53.019172\n",
      "yes    46.980828\n",
      "Name: deposit, dtype: float64\n"
     ]
    }
   ],
   "source": [
    "deposit_counts = bank_data['deposit'].value_counts()\n",
    "deposit_percentages = deposit_counts/len(bank_data)*100\n",
    "print(\"Percentage split of categories in the column 'deposit':\\n\", deposit_percentages)\n"
   ]
  },
  {
   "cell_type": "code",
   "execution_count": 31,
   "id": "d0012ea9",
   "metadata": {},
   "outputs": [
    {
     "data": {
      "image/png": "[encoded data removed]",
      "text/plain": [
       "<Figure size 432x288 with 1 Axes>"
      ]
     },
     "metadata": {
      "needs_background": "light"
     },
     "output_type": "display_data"
    }
   ],
   "source": [
    "import matplotlib.pyplot as plt\n",
    "\n",
    "plt.scatter(bank_data['age'], bank_data['balance'])\n",
    "plt.xlabel('Age')\n",
    "plt.ylabel('Balance')\n",
    "plt.title('Age vs Balance Scatter Plot')\n",
    "plt.grid()\n",
    "plt.legend('best')\n",
    "plt.show()"
   ]
  },
  {
   "cell_type": "code",
   "execution_count": 16,
   "id": "d5122180",
   "metadata": {},
   "outputs": [
    {
     "name": "stdout",
     "output_type": "stream",
     "text": [
      "Number of unemployed clients subscribed to deposit: 92\n"
     ]
    }
   ],
   "source": [
    "unemployed_clients_subscribed = len(bank_data[(bank_data['job'] == 'unemployed') & (bank_data['deposit'] == 'yes')])\n",
    "print(\"Number of unemployed clients subscribed to deposit:\", unemployed_clients_subscribed)\n"
   ]
  },
  {
   "cell_type": "code",
   "execution_count": null,
   "id": "b73ad290",
   "metadata": {},
   "outputs": [],
   "source": []
  },
  {
   "cell_type": "code",
   "execution_count": 32,
   "id": "f8005ad1",
   "metadata": {},
   "outputs": [],
   "source": [
    "# Convert the 'age' column to int64\n",
    "bank_data['age'] = bank_data['age'].astype('int64')\n",
    "\n",
    "# Convert the 'balance' column to float64\n",
    "bank_data['balance'] = bank_data['balance'].astype('float64')\n"
   ]
  },
  {
   "cell_type": "code",
   "execution_count": 18,
   "id": "6fc1db2f",
   "metadata": {},
   "outputs": [],
   "source": [
    "# Convert categorical variables to dummy variables\n",
    "bank_data = pd.get_dummies(bank_data, columns=['job', 'marital', 'education', 'default', 'housing', 'loan', 'contact', 'month', 'poutcome'])"
   ]
  },
  {
   "cell_type": "code",
   "execution_count": 19,
   "id": "2d957bab",
   "metadata": {},
   "outputs": [],
   "source": [
    "from sklearn.model_selection import train_test_split\n",
    "# Split the data into training and testing sets\n",
    "X_train, X_test, y_train, y_test = train_test_split(bank_data.drop('deposit', axis=1), bank_data['deposit'], test_size=0.3, random_state=0)"
   ]
  },
  {
   "cell_type": "code",
   "execution_count": 20,
   "id": "50f4f9ca",
   "metadata": {},
   "outputs": [],
   "source": [
    "from sklearn.linear_model import LogisticRegression\n",
    "\n",
    "# Create a logistic regression object\n",
    "logreg = LogisticRegression(max_iter=10000)\n",
    "\n",
    "# Fit the model using the training data\n",
    "logreg.fit(X_train, y_train)\n",
    "\n",
    "# Predict the target variable for the testing data\n",
    "y_pred = logreg.predict(X_test)"
   ]
  },
  {
   "cell_type": "code",
   "execution_count": 21,
   "id": "083a20ca",
   "metadata": {},
   "outputs": [
    {
     "name": "stdout",
     "output_type": "stream",
     "text": [
      "Accuracy: 0.826865671641791\n"
     ]
    }
   ],
   "source": [
    "from sklearn.metrics import accuracy_score\n",
    "\n",
    "# Calculate the accuracy of the model\n",
    "accuracy = accuracy_score(y_test, y_pred)\n",
    "\n",
    "# Print the accuracy\n",
    "print(\"Accuracy:\", accuracy)\n"
   ]
  },
  {
   "cell_type": "code",
   "execution_count": 22,
   "id": "33d46dca",
   "metadata": {},
   "outputs": [],
   "source": [
    "from sklearn.neighbors import KNeighborsClassifier\n",
    "\n",
    "# Create a k-NN object with k=5\n",
    "knn = KNeighborsClassifier(n_neighbors=5)\n",
    "\n",
    "# Fit the model using the training data\n",
    "knn.fit(X_train, y_train)\n",
    "\n",
    "# Predict the target variable for the testing data\n",
    "y_pred = knn.predict(X_test)\n"
   ]
  },
  {
   "cell_type": "code",
   "execution_count": 23,
   "id": "7d2ce3fa",
   "metadata": {},
   "outputs": [
    {
     "name": "stdout",
     "output_type": "stream",
     "text": [
      "Accuracy: 0.7349253731343284\n"
     ]
    }
   ],
   "source": [
    "from sklearn.metrics import accuracy_score\n",
    "\n",
    "# Calculate the accuracy of the model\n",
    "accuracy = accuracy_score(y_test, y_pred)\n",
    "\n",
    "# Print the accuracy\n",
    "print(\"Accuracy:\", accuracy)\n"
   ]
  },
  {
   "cell_type": "code",
   "execution_count": null,
   "id": "0216d491",
   "metadata": {},
   "outputs": [],
   "source": []
  }
 ],
 "metadata": {
  "kernelspec": {
   "display_name": "Python 3 (ipykernel)",
   "language": "python",
   "name": "python3"
  },
  "language_info": {
   "codemirror_mode": {
    "name": "ipython",
    "version": 3
   },
   "file_extension": ".py",
   "mimetype": "text/x-python",
   "name": "python",
   "nbconvert_exporter": "python",
   "pygments_lexer": "ipython3",
   "version": "3.9.12"
  }
 },
 "nbformat": 4,
 "nbformat_minor": 5
}
